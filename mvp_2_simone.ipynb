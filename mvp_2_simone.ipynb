{
 "cells": [
  {
   "cell_type": "markdown",
   "metadata": {
    "application/vnd.databricks.v1+cell": {
     "cellMetadata": {},
     "inputWidgets": {},
     "nuid": "5000bd5d-f02d-4393-bd09-d18ee674a8ea",
     "showTitle": false,
     "title": ""
    }
   },
   "source": [
    "# Projeto MVP Sprint 2: Banco de Dados\n",
    "\n",
    "Simone Costa Lírios Rocha\n",
    "\n",
    "simone_jcc@yahoo.com.br\n"
   ]
  },
  {
   "cell_type": "markdown",
   "metadata": {
    "application/vnd.databricks.v1+cell": {
     "cellMetadata": {},
     "inputWidgets": {},
     "nuid": "3d4bfb4c-09f9-4f2f-b5c0-d79d79025b12",
     "showTitle": false,
     "title": ""
    }
   },
   "source": [
    "# Objetivo\n",
    "\n",
    "O objetivo deste trabalho é analisar os dados populacionais e geográficos de todos os países do mundo para identificar padrões e tendências que possam informar políticas públicas, decisões de negócios, e estratégias de desenvolvimento sustentável. Especificamente, queremos entender a relação entre população, densidade populacional, taxa de crescimento populacional e outras métricas relevantes para avaliar o desenvolvimento de diferentes países.\n",
    "\n",
    "A base de dados foi coletada do repositório de dados Kaggle, e a licensa de uso é de domínio público.\n",
    "https://www.kaggle.com/datasets/dataanalyst001/world-population-by-country-2024"
   ]
  },
  {
   "cell_type": "markdown",
   "metadata": {
    "application/vnd.databricks.v1+cell": {
     "cellMetadata": {},
     "inputWidgets": {},
     "nuid": "f4689bde-4815-43a1-b3c0-a419efcbdbff",
     "showTitle": false,
     "title": ""
    }
   },
   "source": [
    "# Perguntas a serem respondidas\n",
    "\n",
    "* Quais são os países com maior e menor população em 2024?\n",
    "* Quais são os países com as maiores e menores densidades populacionais em 2024?\n",
    "* Quais são os países com as maiores e menores taxas de crescimento populacional?\n",
    "* Como a população de um país em 2024 está correlacionada com sua área geográfica?\n",
    "* Como a densidade populacional está correlacionada com a taxa de crescimento populacional?"
   ]
  },
  {
   "cell_type": "markdown",
   "metadata": {
    "application/vnd.databricks.v1+cell": {
     "cellMetadata": {},
     "inputWidgets": {},
     "nuid": "6ebfc554-6bcd-49c0-a7d2-53da46e0b3f4",
     "showTitle": false,
     "title": ""
    }
   },
   "source": [
    "# Importação e Configuração\n",
    "\n",
    "começamos importando as bibliotecas necessárias para a análise de dados: pandas para manipulação de dados tabulares em Python e pyspark para processamento de grandes volumes de dados distribuídos usando Spark. Em seguida, criamos uma sessão Spark com o nome \"World Population Analysis\", configurada para incluir o conector spark-bigquery, que permite interagir com o Google BigQuery. Este conector é especificado através da opção config ao inicializar o SparkSession. Finalmente, definimos o caminho do dataset wpc_2024.csv no Databricks File System (DBFS), um sistema de arquivos distribuído gerenciado pelo Databricks, onde o arquivo CSV está armazenado e será carregado para análise subsequente."
   ]
  },
  {
   "cell_type": "code",
   "execution_count": 0,
   "metadata": {
    "application/vnd.databricks.v1+cell": {
     "cellMetadata": {
      "byteLimit": 2048000,
      "rowLimit": 10000
     },
     "inputWidgets": {},
     "nuid": "bca94957-6a97-4ec1-abbe-4debd3261315",
     "showTitle": false,
     "title": ""
    }
   },
   "outputs": [],
   "source": [
    "# Importar bibliotecas necessárias\n",
    "import pandas as pd\n",
    "from pyspark.sql import SparkSession\n",
    "from pyspark.sql.functions import col\n",
    "\n",
    "# Criar uma sessão Spark\n",
    "spark = SparkSession.builder \\\n",
    "    .appName(\"World Population Analysis\") \\\n",
    "    .config(\"spark.jars.packages\", \"com.google.cloud.spark:spark-bigquery-with-dependencies_2.12:0.21.1\") \\\n",
    "    .getOrCreate()\n",
    "\n",
    "# Definir o caminho do dataset no Databricks File System (DBFS)\n",
    "dbfs_path = \"/FileStore/tables/wpc_2024.csv\"\n"
   ]
  },
  {
   "cell_type": "markdown",
   "metadata": {
    "application/vnd.databricks.v1+cell": {
     "cellMetadata": {},
     "inputWidgets": {},
     "nuid": "5b11b172-4b3d-4570-ae52-fa612b3c1510",
     "showTitle": false,
     "title": ""
    }
   },
   "source": [
    "# Coleta dos Dados\n",
    "\n",
    "Utiliza-se a funcionalidade de leitura do Spark para carregar o dataset armazenado no Databricks File System (DBFS). A função spark.read.csv é usada para ler o arquivo CSV localizado no caminho especificado por dbfs_path. Configuramos os parâmetros header=True para indicar que a primeira linha do CSV contém os nomes das colunas e inferSchema=True para que o Spark automaticamente deduza os tipos de dados de cada coluna. Após carregar o dataset em um DataFrame Spark chamado df, utilizamos o método show() para exibir os primeiros registros do dataset, permitindo uma visualização rápida dos dados carregados e a verificação de sua estrutura."
   ]
  },
  {
   "cell_type": "code",
   "execution_count": 0,
   "metadata": {
    "application/vnd.databricks.v1+cell": {
     "cellMetadata": {
      "byteLimit": 2048000,
      "rowLimit": 10000
     },
     "inputWidgets": {},
     "nuid": "eced765a-5e95-45ec-bd58-a12ffac10f2d",
     "showTitle": false,
     "title": ""
    }
   },
   "outputs": [
    {
     "output_type": "stream",
     "name": "stdout",
     "output_type": "stream",
     "text": [
      "+-------------+---------------+---------------+----------+--------------+-----------+-------+----------+\n|      Country|Population 2024|Population 2023|Area (km2)|Density (/km2)|Growth Rate|World %|World Rank|\n+-------------+---------------+---------------+----------+--------------+-----------+-------+----------+\n|        India|     1441719852|     1428627663|        3M|         485.0|     0.0092| 0.1801|         1|\n|        China|     1425178782|     1425671352|      9.4M|         151.0|    -3.0E-4|  0.178|         2|\n|United States|      341814420|      339996563|      9.1M|          37.0|     0.0053| 0.0427|         3|\n|    Indonesia|      279798049|      277534122|      1.9M|         149.0|     0.0082|  0.035|         4|\n|     Pakistan|      245209815|      240485658|    770.9K|         318.0|     0.0196| 0.0306|         5|\n|      Nigeria|      229152217|      223804632|    910.8K|         252.0|     0.0239| 0.0286|         6|\n|       Brazil|      217637297|      216422446|      8.4M|          26.0|     0.0056| 0.0272|         7|\n|   Bangladesh|      174701211|      172954319|    130.2K|        1342.0|     0.0101| 0.0218|         8|\n|       Russia|      143957079|      144444359|     16.4M|           9.0|    -0.0034|  0.018|         9|\n|     Ethiopia|      129719719|      126527060|      1.1M|         115.0|     0.0252| 0.0162|        10|\n|       Mexico|      129388467|      128455567|      1.9M|          67.0|     0.0073| 0.0162|        11|\n|        Japan|      122631432|      123294513|    364.5K|         336.0|    -0.0054| 0.0153|        12|\n|  Philippines|      119106224|      117337368|    298.2K|         399.0|     0.0151| 0.0149|        13|\n|        Egypt|      114484252|      112716598|        1M|         115.0|     0.0157| 0.0143|        14|\n|     DR Congo|      105625114|      102262808|      2.3M|          47.0|     0.0329| 0.0132|        15|\n|      Vietnam|       99497680|       98858950|    313.4K|         317.0|     0.0065| 0.0124|        16|\n|         Iran|       89809781|       89172767|      1.6M|          55.0|     0.0071| 0.0112|        17|\n|       Turkey|       86260417|       85816199|    783.6K|         110.0|     0.0052| 0.0108|        18|\n|      Germany|       83252474|       83294633|    349.4K|         238.0|    -5.0E-4| 0.0104|        19|\n|     Thailand|       71885799|       71801279|    510.9K|         141.0|     0.0012|  0.009|        20|\n+-------------+---------------+---------------+----------+--------------+-----------+-------+----------+\nonly showing top 20 rows\n\n"
     ]
    }
   ],
   "source": [
    "# Carregar o dataset do DBFS\n",
    "df = spark.read.csv(dbfs_path, header=True, inferSchema=True)\n",
    "\n",
    "# Mostrar os primeiros registros do dataset\n",
    "df.show()\n"
   ]
  },
  {
   "cell_type": "markdown",
   "metadata": {
    "application/vnd.databricks.v1+cell": {
     "cellMetadata": {},
     "inputWidgets": {},
     "nuid": "1a75bd2b-1859-4c60-8d3b-23b62bd94fe1",
     "showTitle": false,
     "title": ""
    }
   },
   "source": [
    "# Limpeza e Transformação dos Dados\n",
    "\n",
    "Renomeia-se as colunas do DataFrame Spark df para facilitar o uso subsequente, simplificando os nomes das colunas originais para versões em letras minúsculas e sem espaços. Em seguida, convertemos explicitamente os tipos de dados das colunas relevantes: population_2024 e population_2023 são convertidas para inteiros (int), area_km2, density_per_km2, growth_rate e world_percent para ponto flutuante (float), e world_rank para inteiro (int). Realizamos uma verificação de valores ausentes em todas as colunas usando a função isNull e exibimos os resultados. Finalmente, removemos qualquer linha que contenha valores ausentes com o método dropna, assegurando que o DataFrame resultante esteja livre de dados incompletos e pronto para análise."
   ]
  },
  {
   "cell_type": "code",
   "execution_count": 0,
   "metadata": {
    "application/vnd.databricks.v1+cell": {
     "cellMetadata": {
      "byteLimit": 2048000,
      "rowLimit": 10000
     },
     "inputWidgets": {},
     "nuid": "44ecf401-23f9-42d1-b5e4-52b8de39eb7d",
     "showTitle": false,
     "title": ""
    }
   },
   "outputs": [
    {
     "output_type": "stream",
     "name": "stdout",
     "output_type": "stream",
     "text": [
      "+-------+---------------+---------------+--------+---------------+-----------+-------------+----------+\n|country|population_2024|population_2023|area_km2|density_per_km2|growth_rate|world_percent|world_rank|\n+-------+---------------+---------------+--------+---------------+-----------+-------------+----------+\n|  false|          false|          false|    true|          false|      false|        false|     false|\n|  false|          false|          false|    true|          false|      false|        false|     false|\n|  false|          false|          false|    true|          false|      false|        false|     false|\n|  false|          false|          false|    true|          false|      false|        false|     false|\n|  false|          false|          false|    true|          false|      false|        false|     false|\n|  false|          false|          false|    true|          false|      false|        false|     false|\n|  false|          false|          false|    true|          false|      false|        false|     false|\n|  false|          false|          false|    true|          false|      false|        false|     false|\n|  false|          false|          false|    true|          false|      false|        false|     false|\n|  false|          false|          false|    true|          false|      false|        false|     false|\n|  false|          false|          false|    true|          false|      false|        false|     false|\n|  false|          false|          false|    true|          false|      false|        false|     false|\n|  false|          false|          false|    true|          false|      false|        false|     false|\n|  false|          false|          false|    true|          false|      false|        false|     false|\n|  false|          false|          false|    true|          false|      false|        false|     false|\n|  false|          false|          false|    true|          false|      false|        false|     false|\n|  false|          false|          false|    true|          false|      false|        false|     false|\n|  false|          false|          false|    true|          false|      false|        false|     false|\n|  false|          false|          false|    true|          false|      false|        false|     false|\n|  false|          false|          false|    true|          false|      false|        false|     false|\n+-------+---------------+---------------+--------+---------------+-----------+-------------+----------+\nonly showing top 20 rows\n\n"
     ]
    }
   ],
   "source": [
    "# Renomear colunas para facilitar o uso\n",
    "df = df.withColumnRenamed(\"Country\", \"country\") \\\n",
    "       .withColumnRenamed(\"Population 2024\", \"population_2024\") \\\n",
    "       .withColumnRenamed(\"Population 2023\", \"population_2023\") \\\n",
    "       .withColumnRenamed(\"Area (km2)\", \"area_km2\") \\\n",
    "       .withColumnRenamed(\"Density (/km2)\", \"density_per_km2\") \\\n",
    "       .withColumnRenamed(\"Growth Rate\", \"growth_rate\") \\\n",
    "       .withColumnRenamed(\"World %\", \"world_percent\") \\\n",
    "       .withColumnRenamed(\"World Rank\", \"world_rank\")\n",
    "\n",
    "# Converter tipos de dados\n",
    "df = df.withColumn(\"population_2024\", col(\"population_2024\").cast(\"int\")) \\\n",
    "       .withColumn(\"population_2023\", col(\"population_2023\").cast(\"int\")) \\\n",
    "       .withColumn(\"area_km2\", col(\"area_km2\").cast(\"float\")) \\\n",
    "       .withColumn(\"density_per_km2\", col(\"density_per_km2\").cast(\"float\")) \\\n",
    "       .withColumn(\"growth_rate\", col(\"growth_rate\").cast(\"float\")) \\\n",
    "       .withColumn(\"world_percent\", col(\"world_percent\").cast(\"float\")) \\\n",
    "       .withColumn(\"world_rank\", col(\"world_rank\").cast(\"int\"))\n",
    "\n",
    "# Verificar se há valores ausentes\n",
    "df.select([col(c).isNull().alias(c) for c in df.columns]).show()\n",
    "\n",
    "# Remover linhas com valores ausentes\n",
    "df = df.dropna()\n"
   ]
  },
  {
   "cell_type": "markdown",
   "metadata": {
    "application/vnd.databricks.v1+cell": {
     "cellMetadata": {},
     "inputWidgets": {},
     "nuid": "cee60f21-69d5-4dbf-ab9f-678ffc25d036",
     "showTitle": false,
     "title": ""
    }
   },
   "source": [
    "# Carga dos Dados no Delta Lake do Databricks\n",
    "\n",
    "Os dados são salvos e processados em um formato Delta Lake, que é uma camada de armazenamento otimizada para operações de leitura e escrita no Databricks. Especificamos o caminho onde a tabela Delta será armazenada (delta_table_path) e utilizamos o método write do DataFrame para salvar os dados nesse local, com o formato delta e o modo overwrite para garantir que qualquer dado existente no caminho seja substituído. Após salvar os dados, criamos uma tabela Delta no catálogo do Spark SQL, usando uma consulta SQL. Esta tabela, chamada wpc_2024, é criada apenas se ainda não existir, e aponta para o caminho de armazenamento especificado. Isso permite que os dados sejam facilmente acessados e consultados via SQL, combinando a eficiência do Delta Lake com a flexibilidade das consultas SQL no Spark."
   ]
  },
  {
   "cell_type": "code",
   "execution_count": 0,
   "metadata": {
    "application/vnd.databricks.v1+cell": {
     "cellMetadata": {
      "byteLimit": 2048000,
      "rowLimit": 10000
     },
     "inputWidgets": {},
     "nuid": "c2e495c0-1d54-4ac4-adad-927d9784fea4",
     "showTitle": false,
     "title": ""
    }
   },
   "outputs": [
    {
     "output_type": "stream",
     "name": "stdout",
     "output_type": "stream",
     "text": [
      "Out[6]: DataFrame[]"
     ]
    }
   ],
   "source": [
    "# Salvar os dados em formato Delta Lake\n",
    "delta_table_path = \"/mnt/delta/wpc_2024\"\n",
    "df.write.format(\"delta\").mode(\"overwrite\").save(delta_table_path)\n",
    "\n",
    "# Criar uma tabela Delta\n",
    "spark.sql(f\"\"\"\n",
    "    CREATE TABLE IF NOT EXISTS wpc_2024\n",
    "    USING DELTA\n",
    "    LOCATION '{delta_table_path}'\n",
    "\"\"\")\n"
   ]
  },
  {
   "cell_type": "markdown",
   "metadata": {
    "application/vnd.databricks.v1+cell": {
     "cellMetadata": {},
     "inputWidgets": {},
     "nuid": "55860574-38ec-4a41-944e-2249115f80e0",
     "showTitle": false,
     "title": ""
    }
   },
   "source": [
    "# Análise dos Dados com Consultas SQL"
   ]
  },
  {
   "cell_type": "markdown",
   "metadata": {
    "application/vnd.databricks.v1+cell": {
     "cellMetadata": {},
     "inputWidgets": {},
     "nuid": "13c9eca3-4c13-4a18-91cc-f5e4e39205ba",
     "showTitle": false,
     "title": ""
    }
   },
   "source": [
    "Quais são os países com maior e menor população em 2024?"
   ]
  },
  {
   "cell_type": "code",
   "execution_count": 0,
   "metadata": {
    "application/vnd.databricks.v1+cell": {
     "cellMetadata": {
      "byteLimit": 2048000,
      "rowLimit": 10000
     },
     "inputWidgets": {},
     "nuid": "245081b2-d1d4-4037-ad42-b4d3ad39ea17",
     "showTitle": false,
     "title": ""
    }
   },
   "outputs": [
    {
     "output_type": "stream",
     "name": "stdout",
     "output_type": "stream",
     "text": [
      "+--------------------+---------------+\n|             country|population_2024|\n+--------------------+---------------+\n|           Singapore|        6052709|\n|             Bahrain|        1498712|\n|               Macau|         713082|\n|               Malta|         536740|\n|            Maldives|         517887|\n|             Mayotte|         345996|\n|            Barbados|         282309|\n|Sao Tome and Prin...|         236381|\n|             Curacao|         192965|\n|         Saint Lucia|         180805|\n+--------------------+---------------+\n\n+--------------------+---------------+\n|             country|population_2024|\n+--------------------+---------------+\n|    Saint Barthelemy|          11019|\n|   Wallis and Futuna|          11439|\n|              Tuvalu|          11478|\n|               Nauru|          12884|\n|            Anguilla|          15936|\n|        Cook Islands|          17072|\n|               Palau|          18051|\n|British Virgin Is...|          31763|\n|        Saint Martin|          32337|\n|           Gibraltar|          32718|\n+--------------------+---------------+\n\n"
     ]
    }
   ],
   "source": [
    "# Definir a consulta SQL\n",
    "query_max_population = \"\"\"\n",
    "SELECT country, population_2024\n",
    "FROM wpc_2024\n",
    "ORDER BY population_2024 DESC\n",
    "LIMIT 10\n",
    "\"\"\"\n",
    "\n",
    "query_min_population = \"\"\"\n",
    "SELECT country, population_2024\n",
    "FROM wpc_2024\n",
    "ORDER BY population_2024 ASC\n",
    "LIMIT 10\n",
    "\"\"\"\n",
    "\n",
    "# Executar a consulta e exibir os resultados\n",
    "df_pop_max = spark.sql(query_max_population)\n",
    "df_pop_min = spark.sql(query_min_population)\n",
    "\n",
    "df_pop_max.show()\n",
    "df_pop_min.show()\n"
   ]
  },
  {
   "cell_type": "markdown",
   "metadata": {
    "application/vnd.databricks.v1+cell": {
     "cellMetadata": {},
     "inputWidgets": {},
     "nuid": "6cd64d11-6944-4b35-bbdb-1b2e956a64ad",
     "showTitle": false,
     "title": ""
    }
   },
   "source": [
    "Quais são os países com as maiores e menores densidades populacionais em 2024?"
   ]
  },
  {
   "cell_type": "code",
   "execution_count": 0,
   "metadata": {
    "application/vnd.databricks.v1+cell": {
     "cellMetadata": {
      "byteLimit": 2048000,
      "rowLimit": 10000
     },
     "inputWidgets": {},
     "nuid": "55763050-5e1a-4011-9ceb-31faeba44896",
     "showTitle": false,
     "title": ""
    }
   },
   "outputs": [
    {
     "output_type": "stream",
     "name": "stdout",
     "output_type": "stream",
     "text": [
      "+------------+---------------+\n|     country|density_per_km2|\n+------------+---------------+\n|       Macau|        21674.0|\n|      Monaco|        18079.0|\n|   Singapore|         8430.0|\n|   Gibraltar|         4811.0|\n|     Bahrain|         1909.0|\n|    Maldives|         1726.0|\n|       Malta|         1677.0|\n|Sint Maarten|         1303.0|\n|     Bermuda|         1184.0|\n|    Guernsey|         1013.0|\n+------------+---------------+\n\n+--------------------+---------------+\n|             country|density_per_km2|\n+--------------------+---------------+\n|               Palau|           39.0|\n|   Wallis and Futuna|           42.0|\n|Turks and Caicos ...|           49.0|\n|        Cook Islands|           71.0|\n|            Dominica|           98.0|\n|Northern Mariana ...|          109.0|\n|         Isle of Man|          149.0|\n|               Tonga|          151.0|\n|          Micronesia|          166.0|\n|            Kiribati|          168.0|\n+--------------------+---------------+\n\n"
     ]
    }
   ],
   "source": [
    "# Definir a consulta SQL\n",
    "query_max_density = \"\"\"\n",
    "SELECT country, density_per_km2\n",
    "FROM wpc_2024\n",
    "ORDER BY density_per_km2 DESC\n",
    "LIMIT 10\n",
    "\"\"\"\n",
    "\n",
    "query_min_density = \"\"\"\n",
    "SELECT country, density_per_km2\n",
    "FROM wpc_2024\n",
    "ORDER BY density_per_km2 ASC\n",
    "LIMIT 10\n",
    "\"\"\"\n",
    "\n",
    "# Executar a consulta e exibir os resultados\n",
    "df_density_max = spark.sql(query_max_density)\n",
    "df_density_min = spark.sql(query_min_density)\n",
    "\n",
    "df_density_max.show()\n",
    "df_density_min.show()\n"
   ]
  },
  {
   "cell_type": "markdown",
   "metadata": {
    "application/vnd.databricks.v1+cell": {
     "cellMetadata": {},
     "inputWidgets": {},
     "nuid": "7a67bfbf-596a-456c-8f4f-8e8d3cd2eecd",
     "showTitle": false,
     "title": ""
    }
   },
   "source": [
    "Quais são os países com as maiores e menores taxas de crescimento populacional?"
   ]
  },
  {
   "cell_type": "code",
   "execution_count": 0,
   "metadata": {
    "application/vnd.databricks.v1+cell": {
     "cellMetadata": {
      "byteLimit": 2048000,
      "rowLimit": 10000
     },
     "inputWidgets": {},
     "nuid": "6a6650b6-6ce3-4897-80ac-3abaa288dd5d",
     "showTitle": false,
     "title": ""
    }
   },
   "outputs": [
    {
     "output_type": "stream",
     "name": "stdout",
     "output_type": "stream",
     "text": [
      "+--------------------+-----------+\n|             country|growth_rate|\n+--------------------+-----------+\n|             Mayotte|     0.0298|\n|Sao Tome and Prin...|     0.0195|\n|            Kiribati|     0.0168|\n|               Macau|     0.0127|\n|    Marshall Islands|       0.01|\n|          Micronesia|     0.0093|\n|              Jersey|     0.0093|\n|             Bahrain|     0.0089|\n|               Tonga|     0.0084|\n|      Cayman Islands|     0.0083|\n+--------------------+-----------+\n\n+--------------------+-----------+\n|             country|growth_rate|\n+--------------------+-----------+\n|      American Samoa|    -0.0084|\n|United States Vir...|     -0.007|\n|            Maldives|     -0.006|\n|   Wallis and Futuna|    -0.0055|\n|              Monaco|    -0.0039|\n|             Bermuda|    -0.0021|\n|               Aruba|    -9.0E-4|\n|          San Marino|    -8.0E-4|\n|               Palau|    -4.0E-4|\n|Saint Vincent and...|    -1.0E-4|\n+--------------------+-----------+\n\n"
     ]
    }
   ],
   "source": [
    "# Definir a consulta SQL\n",
    "query_max_growth = \"\"\"\n",
    "SELECT country, growth_rate\n",
    "FROM wpc_2024\n",
    "ORDER BY growth_rate DESC\n",
    "LIMIT 10\n",
    "\"\"\"\n",
    "\n",
    "query_min_growth = \"\"\"\n",
    "SELECT country, growth_rate\n",
    "FROM wpc_2024\n",
    "ORDER BY growth_rate ASC\n",
    "LIMIT 10\n",
    "\"\"\"\n",
    "\n",
    "# Executar a consulta e exibir os resultados\n",
    "df_growth_max = spark.sql(query_max_growth)\n",
    "df_growth_min = spark.sql(query_min_growth)\n",
    "\n",
    "df_growth_max.show()\n",
    "df_growth_min.show()\n"
   ]
  },
  {
   "cell_type": "markdown",
   "metadata": {
    "application/vnd.databricks.v1+cell": {
     "cellMetadata": {},
     "inputWidgets": {},
     "nuid": "70b534a7-3927-437a-98b6-642f08198256",
     "showTitle": false,
     "title": ""
    }
   },
   "source": [
    "Como a população de um país em 2024 está correlacionada com sua área geográfica?"
   ]
  },
  {
   "cell_type": "code",
   "execution_count": 0,
   "metadata": {
    "application/vnd.databricks.v1+cell": {
     "cellMetadata": {
      "byteLimit": 2048000,
      "rowLimit": 10000
     },
     "inputWidgets": {},
     "nuid": "987b8924-55a7-41a2-86a7-c7bdb04b492b",
     "showTitle": false,
     "title": ""
    }
   },
   "outputs": [
    {
     "output_type": "stream",
     "name": "stdout",
     "output_type": "stream",
     "text": [
      "Correlação entre População em 2024 e Área Geográfica: 0.27302832470193183\n"
     ]
    }
   ],
   "source": [
    "# Definir a consulta SQL\n",
    "query_population_area = \"\"\"\n",
    "SELECT population_2024, area_km2\n",
    "FROM wpc_2024\n",
    "\"\"\"\n",
    "\n",
    "# Executar a consulta e exibir os resultados\n",
    "df_population_area = spark.sql(query_population_area)\n",
    "\n",
    "# Calcular a correlação\n",
    "correlation = df_population_area.corr(\"population_2024\", \"area_km2\")\n",
    "print(f\"Correlação entre População em 2024 e Área Geográfica: {correlation}\")\n"
   ]
  },
  {
   "cell_type": "markdown",
   "metadata": {
    "application/vnd.databricks.v1+cell": {
     "cellMetadata": {},
     "inputWidgets": {},
     "nuid": "94f6c562-c0fb-4014-b04e-07da88aeed41",
     "showTitle": false,
     "title": ""
    }
   },
   "source": [
    "Como a densidade populacional está correlacionada com a taxa de crescimento populacional?"
   ]
  },
  {
   "cell_type": "code",
   "execution_count": 0,
   "metadata": {
    "application/vnd.databricks.v1+cell": {
     "cellMetadata": {
      "byteLimit": 2048000,
      "rowLimit": 10000
     },
     "inputWidgets": {},
     "nuid": "0ca589b6-9936-4448-9cb1-3e439b80dec9",
     "showTitle": false,
     "title": ""
    }
   },
   "outputs": [
    {
     "output_type": "stream",
     "name": "stdout",
     "output_type": "stream",
     "text": [
      "Correlação entre Densidade Populacional e Taxa de Crescimento: 0.012724154876021312\n"
     ]
    }
   ],
   "source": [
    "# Definir a consulta SQL\n",
    "query_density_growth = \"\"\"\n",
    "SELECT density_per_km2, growth_rate\n",
    "FROM wpc_2024\n",
    "\"\"\"\n",
    "\n",
    "# Executar a consulta e exibir os resultados\n",
    "df_density_growth = spark.sql(query_density_growth)\n",
    "\n",
    "# Calcular a correlação\n",
    "correlation = df_density_growth.corr(\"density_per_km2\", \"growth_rate\")\n",
    "print(f\"Correlação entre Densidade Populacional e Taxa de Crescimento: {correlation}\")\n"
   ]
  },
  {
   "cell_type": "markdown",
   "metadata": {
    "application/vnd.databricks.v1+cell": {
     "cellMetadata": {},
     "inputWidgets": {},
     "nuid": "a347bcab-6fab-434c-8897-30cbfd02d68b",
     "showTitle": false,
     "title": ""
    }
   },
   "source": [
    "# Conclusão\n",
    "\n",
    "Neste projeto, realizamos uma análise detalhada dos dados populacionais mundiais de 2024 utilizando a plataforma Databricks e Delta Lake. Começamos com a definição dos objetivos e das perguntas de interesse, coletamos e carregamos os dados no Databricks File System (DBFS), e realizamos a limpeza e transformação dos dados. Armazenamos o dataset processado em uma tabela Delta Lake, facilitando consultas SQL para responder perguntas sobre populações, densidades populacionais e taxas de crescimento dos países. As análises revelaram padrões e correlações significativas entre população, área geográfica e densidade populacional."
   ]
  }
 ],
 "metadata": {
  "application/vnd.databricks.v1+notebook": {
   "dashboards": [],
   "environmentMetadata": null,
   "language": "python",
   "notebookMetadata": {
    "pythonIndentUnit": 4
   },
   "notebookName": "mvp_2_simone",
   "widgets": {}
  }
 },
 "nbformat": 4,
 "nbformat_minor": 0
}
